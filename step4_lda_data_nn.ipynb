{
 "cells": [
  {
   "cell_type": "code",
   "execution_count": 1,
   "metadata": {},
   "outputs": [
    {
     "name": "stderr",
     "output_type": "stream",
     "text": [
      "c:\\users\\piotrwiercinski\\appdata\\local\\programs\\python\\python36\\lib\\site-packages\\h5py\\__init__.py:34: FutureWarning: Conversion of the second argument of issubdtype from `float` to `np.floating` is deprecated. In future, it will be treated as `np.float64 == np.dtype(float).type`.\n",
      "  from ._conv import register_converters as _register_converters\n",
      "Using TensorFlow backend.\n"
     ]
    }
   ],
   "source": [
    "import pandas as pd\n",
    "import numpy as np\n",
    "from ast import literal_eval\n",
    "import matplotlib.pyplot as plt\n",
    "\n",
    "from sklearn.model_selection import train_test_split\n",
    "from sklearn.preprocessing import StandardScaler\n",
    "import keras\n",
    "from keras.models import Sequential\n",
    "from keras.layers import Dense"
   ]
  },
  {
   "cell_type": "markdown",
   "metadata": {},
   "source": [
    "### Validation concept\n",
    "<br>\n",
    "Due to the fact that LDA modelling is an unsupervised method its validity is inherently difficult to assess in an interpretable and scientificly rigourous manner. <br><br>\n",
    "It can be assumed that a high quality LDA model would provide an informative representation of the topic distribution in the text. It can also be assumed that there exists a connection between the Times news desks that produce articles and the topic distributions of the articles. <br><br>\n",
    "Consequently, the validity of LDA topic assignment could be tested by predicting the article's news desk basing on its LDA topic representation. The hypothesis is that if the LDA topic and news desk data are informative in the context of article's topic distribution, then the performance of a supervised learning model should be significantly better than random."
   ]
  },
  {
   "cell_type": "code",
   "execution_count": 2,
   "metadata": {},
   "outputs": [],
   "source": [
    "df = pd.read_csv(r'C:\\Users\\PiotrWiercinski\\Documents\\Research\\Github&kaggle\\Times articles data\\lda_data\\lda_topics_df.csv',\n",
    "                index_col='index')"
   ]
  },
  {
   "cell_type": "code",
   "execution_count": 3,
   "metadata": {},
   "outputs": [
    {
     "data": {
      "text/html": [
       "<div>\n",
       "<style scoped>\n",
       "    .dataframe tbody tr th:only-of-type {\n",
       "        vertical-align: middle;\n",
       "    }\n",
       "\n",
       "    .dataframe tbody tr th {\n",
       "        vertical-align: top;\n",
       "    }\n",
       "\n",
       "    .dataframe thead th {\n",
       "        text-align: right;\n",
       "    }\n",
       "</style>\n",
       "<table border=\"1\" class=\"dataframe\">\n",
       "  <thead>\n",
       "    <tr style=\"text-align: right;\">\n",
       "      <th></th>\n",
       "      <th>articleID</th>\n",
       "      <th>keywords_x</th>\n",
       "      <th>text</th>\n",
       "      <th>corpus</th>\n",
       "      <th>lda_topics</th>\n",
       "      <th>abstract</th>\n",
       "      <th>articleWordCount</th>\n",
       "      <th>byline</th>\n",
       "      <th>documentType</th>\n",
       "      <th>headline</th>\n",
       "      <th>keywords_y</th>\n",
       "      <th>multimedia</th>\n",
       "      <th>newDesk</th>\n",
       "      <th>printPage</th>\n",
       "      <th>pubDate</th>\n",
       "      <th>sectionName</th>\n",
       "      <th>snippet</th>\n",
       "      <th>source</th>\n",
       "      <th>typeOfMaterial</th>\n",
       "      <th>webURL</th>\n",
       "    </tr>\n",
       "    <tr>\n",
       "      <th>index</th>\n",
       "      <th></th>\n",
       "      <th></th>\n",
       "      <th></th>\n",
       "      <th></th>\n",
       "      <th></th>\n",
       "      <th></th>\n",
       "      <th></th>\n",
       "      <th></th>\n",
       "      <th></th>\n",
       "      <th></th>\n",
       "      <th></th>\n",
       "      <th></th>\n",
       "      <th></th>\n",
       "      <th></th>\n",
       "      <th></th>\n",
       "      <th></th>\n",
       "      <th></th>\n",
       "      <th></th>\n",
       "      <th></th>\n",
       "      <th></th>\n",
       "    </tr>\n",
       "  </thead>\n",
       "  <tbody>\n",
       "    <tr>\n",
       "      <th>0</th>\n",
       "      <td>5adf6684068401528a2aa69b</td>\n",
       "      <td>['offer', 'statement', 'cheerleading', 'suppor...</td>\n",
       "      <td>The N.F.L. has responded with a written statem...</td>\n",
       "      <td>[(0, 1), (1, 1), (2, 3), (3, 5), (4, 2), (5, 3...</td>\n",
       "      <td>[(17, 0.08008672), (21, 0.022569574), (26, 0.1...</td>\n",
       "      <td>NaN</td>\n",
       "      <td>781</td>\n",
       "      <td>By JOHN BRANCH</td>\n",
       "      <td>article</td>\n",
       "      <td>Former N.F.L. Cheerleaders’ Settlement Offer: ...</td>\n",
       "      <td>['Workplace Hazards and Violations', 'Football...</td>\n",
       "      <td>68</td>\n",
       "      <td>Sports</td>\n",
       "      <td>0</td>\n",
       "      <td>2018-04-24 17:16:49</td>\n",
       "      <td>Pro Football</td>\n",
       "      <td>“I understand that they could meet with us, pa...</td>\n",
       "      <td>The New York Times</td>\n",
       "      <td>News</td>\n",
       "      <td>https://www.nytimes.com/2018/04/24/sports/foot...</td>\n",
       "    </tr>\n",
       "    <tr>\n",
       "      <th>1</th>\n",
       "      <td>5adf653f068401528a2aa697</td>\n",
       "      <td>['likely', 'epa', 'studies', 'effect', 'policy...</td>\n",
       "      <td>WASHINGTON — The Environmental Protection Agen...</td>\n",
       "      <td>[(79, 1), (80, 1), (81, 1), (82, 5), (83, 1), ...</td>\n",
       "      <td>[(7, 0.0800965), (16, 0.44378182), (41, 0.0247...</td>\n",
       "      <td>NaN</td>\n",
       "      <td>656</td>\n",
       "      <td>By LISA FRIEDMAN</td>\n",
       "      <td>article</td>\n",
       "      <td>E.P.A. to Unveil a New Rule. Its Effect: Less ...</td>\n",
       "      <td>['Environmental Protection Agency', 'Pruitt, S...</td>\n",
       "      <td>68</td>\n",
       "      <td>Climate</td>\n",
       "      <td>0</td>\n",
       "      <td>2018-04-24 17:11:21</td>\n",
       "      <td>Unknown</td>\n",
       "      <td>The agency plans to publish a new regulation T...</td>\n",
       "      <td>The New York Times</td>\n",
       "      <td>News</td>\n",
       "      <td>https://www.nytimes.com/2018/04/24/climate/epa...</td>\n",
       "    </tr>\n",
       "    <tr>\n",
       "      <th>2</th>\n",
       "      <td>5adf4626068401528a2aa628</td>\n",
       "      <td>['probably', 'frequently', 'mr', 'asked', 'din...</td>\n",
       "      <td>If I get a reservation, will eating at Noma ma...</td>\n",
       "      <td>[(7, 1), (60, 1), (97, 2), (119, 1), (120, 1),...</td>\n",
       "      <td>[(0, 0.018988285), (2, 0.121632785), (9, 0.018...</td>\n",
       "      <td>NaN</td>\n",
       "      <td>2427</td>\n",
       "      <td>By PETE WELLS</td>\n",
       "      <td>article</td>\n",
       "      <td>The New Noma, Explained</td>\n",
       "      <td>['Restaurants', 'Noma (Copenhagen, Restaurant)...</td>\n",
       "      <td>66</td>\n",
       "      <td>Dining</td>\n",
       "      <td>0</td>\n",
       "      <td>2018-04-24 14:58:44</td>\n",
       "      <td>Unknown</td>\n",
       "      <td>What’s it like to eat at the second incarnatio...</td>\n",
       "      <td>The New York Times</td>\n",
       "      <td>News</td>\n",
       "      <td>https://www.nytimes.com/2018/04/24/dining/noma...</td>\n",
       "    </tr>\n",
       "    <tr>\n",
       "      <th>3</th>\n",
       "      <td>5adf40d2068401528a2aa619</td>\n",
       "      <td>['iran', 'nuclear', 'constrain', 'mr', 'korea'...</td>\n",
       "      <td>WASHINGTON — President Trump signaled on Tuesd...</td>\n",
       "      <td>[(42, 1), (50, 1), (97, 4), (99, 2), (116, 1),...</td>\n",
       "      <td>[(0, 0.020230627), (7, 0.06410627), (11, 0.438...</td>\n",
       "      <td>NaN</td>\n",
       "      <td>626</td>\n",
       "      <td>By JULIE HIRSCHFELD DAVIS and PETER BAKER</td>\n",
       "      <td>article</td>\n",
       "      <td>Unknown</td>\n",
       "      <td>['Macron, Emmanuel (1977- )', 'Trump, Donald J...</td>\n",
       "      <td>68</td>\n",
       "      <td>Washington</td>\n",
       "      <td>0</td>\n",
       "      <td>2018-04-24 14:35:57</td>\n",
       "      <td>Europe</td>\n",
       "      <td>President Trump welcomed President Emmanuel Ma...</td>\n",
       "      <td>The New York Times</td>\n",
       "      <td>News</td>\n",
       "      <td>https://www.nytimes.com/2018/04/24/world/europ...</td>\n",
       "    </tr>\n",
       "    <tr>\n",
       "      <th>4</th>\n",
       "      <td>5adf3d64068401528a2aa60f</td>\n",
       "      <td>['counts', 'women', 'murder', 'tuesdaythe', 'e...</td>\n",
       "      <td>TORONTO — The man identified as the van driver...</td>\n",
       "      <td>[(38, 1), (76, 1), (97, 1), (113, 1), (116, 1)...</td>\n",
       "      <td>[(7, 0.086451806), (10, 0.021542551), (16, 0.0...</td>\n",
       "      <td>NaN</td>\n",
       "      <td>815</td>\n",
       "      <td>By IAN AUSTEN and DAN BILEFSKY</td>\n",
       "      <td>article</td>\n",
       "      <td>Unknown</td>\n",
       "      <td>['Toronto, Ontario, Attack (April, 2018)', 'Mu...</td>\n",
       "      <td>68</td>\n",
       "      <td>Foreign</td>\n",
       "      <td>0</td>\n",
       "      <td>2018-04-24 14:21:21</td>\n",
       "      <td>Canada</td>\n",
       "      <td>Alek Minassian, 25, a resident of Toronto’s Ri...</td>\n",
       "      <td>The New York Times</td>\n",
       "      <td>News</td>\n",
       "      <td>https://www.nytimes.com/2018/04/24/world/canad...</td>\n",
       "    </tr>\n",
       "  </tbody>\n",
       "</table>\n",
       "</div>"
      ],
      "text/plain": [
       "                      articleID  \\\n",
       "index                             \n",
       "0      5adf6684068401528a2aa69b   \n",
       "1      5adf653f068401528a2aa697   \n",
       "2      5adf4626068401528a2aa628   \n",
       "3      5adf40d2068401528a2aa619   \n",
       "4      5adf3d64068401528a2aa60f   \n",
       "\n",
       "                                              keywords_x  \\\n",
       "index                                                      \n",
       "0      ['offer', 'statement', 'cheerleading', 'suppor...   \n",
       "1      ['likely', 'epa', 'studies', 'effect', 'policy...   \n",
       "2      ['probably', 'frequently', 'mr', 'asked', 'din...   \n",
       "3      ['iran', 'nuclear', 'constrain', 'mr', 'korea'...   \n",
       "4      ['counts', 'women', 'murder', 'tuesdaythe', 'e...   \n",
       "\n",
       "                                                    text  \\\n",
       "index                                                      \n",
       "0      The N.F.L. has responded with a written statem...   \n",
       "1      WASHINGTON — The Environmental Protection Agen...   \n",
       "2      If I get a reservation, will eating at Noma ma...   \n",
       "3      WASHINGTON — President Trump signaled on Tuesd...   \n",
       "4      TORONTO — The man identified as the van driver...   \n",
       "\n",
       "                                                  corpus  \\\n",
       "index                                                      \n",
       "0      [(0, 1), (1, 1), (2, 3), (3, 5), (4, 2), (5, 3...   \n",
       "1      [(79, 1), (80, 1), (81, 1), (82, 5), (83, 1), ...   \n",
       "2      [(7, 1), (60, 1), (97, 2), (119, 1), (120, 1),...   \n",
       "3      [(42, 1), (50, 1), (97, 4), (99, 2), (116, 1),...   \n",
       "4      [(38, 1), (76, 1), (97, 1), (113, 1), (116, 1)...   \n",
       "\n",
       "                                              lda_topics abstract  \\\n",
       "index                                                               \n",
       "0      [(17, 0.08008672), (21, 0.022569574), (26, 0.1...      NaN   \n",
       "1      [(7, 0.0800965), (16, 0.44378182), (41, 0.0247...      NaN   \n",
       "2      [(0, 0.018988285), (2, 0.121632785), (9, 0.018...      NaN   \n",
       "3      [(0, 0.020230627), (7, 0.06410627), (11, 0.438...      NaN   \n",
       "4      [(7, 0.086451806), (10, 0.021542551), (16, 0.0...      NaN   \n",
       "\n",
       "       articleWordCount                                     byline  \\\n",
       "index                                                                \n",
       "0                   781                             By JOHN BRANCH   \n",
       "1                   656                           By LISA FRIEDMAN   \n",
       "2                  2427                              By PETE WELLS   \n",
       "3                   626  By JULIE HIRSCHFELD DAVIS and PETER BAKER   \n",
       "4                   815             By IAN AUSTEN and DAN BILEFSKY   \n",
       "\n",
       "      documentType                                           headline  \\\n",
       "index                                                                   \n",
       "0          article  Former N.F.L. Cheerleaders’ Settlement Offer: ...   \n",
       "1          article  E.P.A. to Unveil a New Rule. Its Effect: Less ...   \n",
       "2          article                            The New Noma, Explained   \n",
       "3          article                                            Unknown   \n",
       "4          article                                            Unknown   \n",
       "\n",
       "                                              keywords_y  multimedia  \\\n",
       "index                                                                  \n",
       "0      ['Workplace Hazards and Violations', 'Football...          68   \n",
       "1      ['Environmental Protection Agency', 'Pruitt, S...          68   \n",
       "2      ['Restaurants', 'Noma (Copenhagen, Restaurant)...          66   \n",
       "3      ['Macron, Emmanuel (1977- )', 'Trump, Donald J...          68   \n",
       "4      ['Toronto, Ontario, Attack (April, 2018)', 'Mu...          68   \n",
       "\n",
       "          newDesk  printPage              pubDate   sectionName  \\\n",
       "index                                                             \n",
       "0          Sports          0  2018-04-24 17:16:49  Pro Football   \n",
       "1         Climate          0  2018-04-24 17:11:21       Unknown   \n",
       "2          Dining          0  2018-04-24 14:58:44       Unknown   \n",
       "3      Washington          0  2018-04-24 14:35:57        Europe   \n",
       "4         Foreign          0  2018-04-24 14:21:21        Canada   \n",
       "\n",
       "                                                 snippet              source  \\\n",
       "index                                                                          \n",
       "0      “I understand that they could meet with us, pa...  The New York Times   \n",
       "1      The agency plans to publish a new regulation T...  The New York Times   \n",
       "2      What’s it like to eat at the second incarnatio...  The New York Times   \n",
       "3      President Trump welcomed President Emmanuel Ma...  The New York Times   \n",
       "4      Alek Minassian, 25, a resident of Toronto’s Ri...  The New York Times   \n",
       "\n",
       "      typeOfMaterial                                             webURL  \n",
       "index                                                                    \n",
       "0               News  https://www.nytimes.com/2018/04/24/sports/foot...  \n",
       "1               News  https://www.nytimes.com/2018/04/24/climate/epa...  \n",
       "2               News  https://www.nytimes.com/2018/04/24/dining/noma...  \n",
       "3               News  https://www.nytimes.com/2018/04/24/world/europ...  \n",
       "4               News  https://www.nytimes.com/2018/04/24/world/canad...  "
      ]
     },
     "execution_count": 3,
     "metadata": {},
     "output_type": "execute_result"
    }
   ],
   "source": [
    "df.head()"
   ]
  },
  {
   "cell_type": "code",
   "execution_count": 4,
   "metadata": {},
   "outputs": [
    {
     "data": {
      "image/png": "[encoded data removed]",
      "text/plain": [
       "<matplotlib.figure.Figure at 0x21d08836c88>"
      ]
     },
     "metadata": {},
     "output_type": "display_data"
    }
   ],
   "source": [
    "plt.rcParams['figure.figsize'] = (50, 10)\n",
    "plt.hist(df.newDesk, bins=150)\n",
    "plt.show()"
   ]
  },
  {
   "cell_type": "code",
   "execution_count": 5,
   "metadata": {},
   "outputs": [],
   "source": [
    "def get_topic_vector(lda_topic_output, n_topics):\n",
    "    vector = np.zeros(shape=(1, n_topics))\n",
    "    for topic in lda_topic_output:\n",
    "        vector[0, topic[0]] = topic[1]\n",
    "    return vector"
   ]
  },
  {
   "cell_type": "code",
   "execution_count": 6,
   "metadata": {
    "scrolled": false
   },
   "outputs": [],
   "source": [
    "df['topic_vector'] = df.lda_topics.apply(lambda x: get_topic_vector(literal_eval(x), 80))"
   ]
  },
  {
   "cell_type": "markdown",
   "metadata": {},
   "source": [
    "Due to the low amount of data, a subset of the data is chosen to facilitate the performance of the learning algorithm."
   ]
  },
  {
   "cell_type": "code",
   "execution_count": 7,
   "metadata": {},
   "outputs": [],
   "source": [
    "data = df[df.newDesk.isin(['Business', 'Culture', 'Foreign', 'Learning'])]"
   ]
  },
  {
   "cell_type": "code",
   "execution_count": 8,
   "metadata": {
    "scrolled": true
   },
   "outputs": [],
   "source": [
    "data = pd.get_dummies(data.newDesk)"
   ]
  },
  {
   "cell_type": "code",
   "execution_count": 9,
   "metadata": {
    "scrolled": true
   },
   "outputs": [
    {
     "name": "stderr",
     "output_type": "stream",
     "text": [
      "c:\\users\\piotrwiercinski\\appdata\\local\\programs\\python\\python36\\lib\\site-packages\\ipykernel_launcher.py:1: FutureWarning: \n",
      "Passing list-likes to .loc or [] with any missing label will raise\n",
      "KeyError in the future, you can use .reindex() as an alternative.\n",
      "\n",
      "See the documentation here:\n",
      "http://pandas.pydata.org/pandas-docs/stable/indexing.html#deprecate-loc-reindex-listlike\n",
      "  \"\"\"Entry point for launching an IPython kernel.\n",
      "c:\\users\\piotrwiercinski\\appdata\\local\\programs\\python\\python36\\lib\\site-packages\\pandas\\core\\indexing.py:1367: FutureWarning: \n",
      "Passing list-likes to .loc or [] with any missing label will raise\n",
      "KeyError in the future, you can use .reindex() as an alternative.\n",
      "\n",
      "See the documentation here:\n",
      "http://pandas.pydata.org/pandas-docs/stable/indexing.html#deprecate-loc-reindex-listlike\n",
      "  return self._getitem_tuple(key)\n"
     ]
    }
   ],
   "source": [
    "data = df.loc[:, ['index', 'topic_vector']].merge(data, left_index=True, right_index=True).drop('index', axis=1)"
   ]
  },
  {
   "cell_type": "code",
   "execution_count": 10,
   "metadata": {},
   "outputs": [
    {
     "data": {
      "text/html": [
       "<div>\n",
       "<style scoped>\n",
       "    .dataframe tbody tr th:only-of-type {\n",
       "        vertical-align: middle;\n",
       "    }\n",
       "\n",
       "    .dataframe tbody tr th {\n",
       "        vertical-align: top;\n",
       "    }\n",
       "\n",
       "    .dataframe thead th {\n",
       "        text-align: right;\n",
       "    }\n",
       "</style>\n",
       "<table border=\"1\" class=\"dataframe\">\n",
       "  <thead>\n",
       "    <tr style=\"text-align: right;\">\n",
       "      <th></th>\n",
       "      <th>topic_vector</th>\n",
       "      <th>Business</th>\n",
       "      <th>Culture</th>\n",
       "      <th>Foreign</th>\n",
       "      <th>Learning</th>\n",
       "    </tr>\n",
       "    <tr>\n",
       "      <th>index</th>\n",
       "      <th></th>\n",
       "      <th></th>\n",
       "      <th></th>\n",
       "      <th></th>\n",
       "      <th></th>\n",
       "    </tr>\n",
       "  </thead>\n",
       "  <tbody>\n",
       "    <tr>\n",
       "      <th>4</th>\n",
       "      <td>[[0.0, 0.0, 0.0, 0.0, 0.0, 0.0, 0.0, 0.0864518...</td>\n",
       "      <td>0</td>\n",
       "      <td>0</td>\n",
       "      <td>1</td>\n",
       "      <td>0</td>\n",
       "    </tr>\n",
       "    <tr>\n",
       "      <th>9</th>\n",
       "      <td>[[0.0, 0.0, 0.0, 0.0, 0.0, 0.0, 0.5019718, 0.0...</td>\n",
       "      <td>0</td>\n",
       "      <td>0</td>\n",
       "      <td>0</td>\n",
       "      <td>1</td>\n",
       "    </tr>\n",
       "    <tr>\n",
       "      <th>13</th>\n",
       "      <td>[[0.0, 0.0, 0.011637932, 0.0, 0.0, 0.011737227...</td>\n",
       "      <td>1</td>\n",
       "      <td>0</td>\n",
       "      <td>0</td>\n",
       "      <td>0</td>\n",
       "    </tr>\n",
       "    <tr>\n",
       "      <th>23</th>\n",
       "      <td>[[0.0, 0.0, 0.0, 0.0, 0.0, 0.0, 0.79271823, 0....</td>\n",
       "      <td>0</td>\n",
       "      <td>0</td>\n",
       "      <td>0</td>\n",
       "      <td>1</td>\n",
       "    </tr>\n",
       "    <tr>\n",
       "      <th>24</th>\n",
       "      <td>[[0.0, 0.0, 0.0, 0.0, 0.0, 0.0, 0.0, 0.0, 0.0,...</td>\n",
       "      <td>0</td>\n",
       "      <td>0</td>\n",
       "      <td>0</td>\n",
       "      <td>1</td>\n",
       "    </tr>\n",
       "  </tbody>\n",
       "</table>\n",
       "</div>"
      ],
      "text/plain": [
       "                                            topic_vector  Business  Culture  \\\n",
       "index                                                                         \n",
       "4      [[0.0, 0.0, 0.0, 0.0, 0.0, 0.0, 0.0, 0.0864518...         0        0   \n",
       "9      [[0.0, 0.0, 0.0, 0.0, 0.0, 0.0, 0.5019718, 0.0...         0        0   \n",
       "13     [[0.0, 0.0, 0.011637932, 0.0, 0.0, 0.011737227...         1        0   \n",
       "23     [[0.0, 0.0, 0.0, 0.0, 0.0, 0.0, 0.79271823, 0....         0        0   \n",
       "24     [[0.0, 0.0, 0.0, 0.0, 0.0, 0.0, 0.0, 0.0, 0.0,...         0        0   \n",
       "\n",
       "       Foreign  Learning  \n",
       "index                     \n",
       "4            1         0  \n",
       "9            0         1  \n",
       "13           0         0  \n",
       "23           0         1  \n",
       "24           0         1  "
      ]
     },
     "execution_count": 10,
     "metadata": {},
     "output_type": "execute_result"
    }
   ],
   "source": [
    "data.head()"
   ]
  },
  {
   "cell_type": "code",
   "execution_count": 11,
   "metadata": {},
   "outputs": [],
   "source": [
    "train_data = data.topic_vector.values"
   ]
  },
  {
   "cell_type": "code",
   "execution_count": 12,
   "metadata": {},
   "outputs": [],
   "source": [
    "reshaped_train_data = np.zeros(shape=(1, 80))\n",
    "for each in train_data:\n",
    "    reshaped_train_data = np.vstack((reshaped_train_data, each))\n",
    "reshaped_train_data = np.delete(reshaped_train_data, 0, 0)"
   ]
  },
  {
   "cell_type": "code",
   "execution_count": 13,
   "metadata": {},
   "outputs": [],
   "source": [
    "train_data = reshaped_train_data"
   ]
  },
  {
   "cell_type": "code",
   "execution_count": 14,
   "metadata": {},
   "outputs": [],
   "source": [
    "scaler = StandardScaler()\n",
    "train_data = scaler.fit_transform(train_data)"
   ]
  },
  {
   "cell_type": "code",
   "execution_count": 15,
   "metadata": {},
   "outputs": [],
   "source": [
    "target = data.drop('topic_vector', axis=1)"
   ]
  },
  {
   "cell_type": "code",
   "execution_count": 16,
   "metadata": {},
   "outputs": [],
   "source": [
    "x_train, x_dev, y_train, y_dev = train_test_split(train_data, target.values, test_size=0.3, random_state=2)"
   ]
  },
  {
   "cell_type": "code",
   "execution_count": 17,
   "metadata": {},
   "outputs": [],
   "source": [
    "model = Sequential()\n",
    "model.add(Dense(4, input_dim=x_train.shape[1], activation='softmax', kernel_initializer='glorot_normal',\n",
    "                bias_initializer='zeros'))\n",
    "    "
   ]
  },
  {
   "cell_type": "code",
   "execution_count": 18,
   "metadata": {},
   "outputs": [],
   "source": [
    "model.compile(loss='categorical_crossentropy', optimizer='adam', metrics=['categorical_accuracy'])"
   ]
  },
  {
   "cell_type": "code",
   "execution_count": 19,
   "metadata": {
    "scrolled": true
   },
   "outputs": [
    {
     "name": "stdout",
     "output_type": "stream",
     "text": [
      "Epoch 1/50\n",
      "1401/1401 [==============================] - 0s - loss: 1.8324 - categorical_accuracy: 0.2384     \n",
      "Epoch 2/50\n",
      "1401/1401 [==============================] - 0s - loss: 1.5739 - categorical_accuracy: 0.3276     \n",
      "Epoch 3/50\n",
      "1401/1401 [==============================] - 0s - loss: 1.3621 - categorical_accuracy: 0.4154     \n",
      "Epoch 4/50\n",
      "1401/1401 [==============================] - 0s - loss: 1.1923 - categorical_accuracy: 0.5211     \n",
      "Epoch 5/50\n",
      "1401/1401 [==============================] - 0s - loss: 1.0579 - categorical_accuracy: 0.5853     \n",
      "Epoch 6/50\n",
      "1401/1401 [==============================] - 0s - loss: 0.9517 - categorical_accuracy: 0.6331     \n",
      "Epoch 7/50\n",
      "1401/1401 [==============================] - 0s - loss: 0.8680 - categorical_accuracy: 0.6724     \n",
      "Epoch 8/50\n",
      "1401/1401 [==============================] - 0s - loss: 0.8026 - categorical_accuracy: 0.7052     \n",
      "Epoch 9/50\n",
      "1401/1401 [==============================] - 0s - loss: 0.7493 - categorical_accuracy: 0.7345     \n",
      "Epoch 10/50\n",
      "1401/1401 [==============================] - 0s - loss: 0.7068 - categorical_accuracy: 0.7545     \n",
      "Epoch 11/50\n",
      "1401/1401 [==============================] - 0s - loss: 0.6721 - categorical_accuracy: 0.7709     \n",
      "Epoch 12/50\n",
      "1401/1401 [==============================] - 0s - loss: 0.6432 - categorical_accuracy: 0.7716     \n",
      "Epoch 13/50\n",
      "1401/1401 [==============================] - 0s - loss: 0.6191 - categorical_accuracy: 0.7794     \n",
      "Epoch 14/50\n",
      "1401/1401 [==============================] - 0s - loss: 0.5987 - categorical_accuracy: 0.7830     \n",
      "Epoch 15/50\n",
      "1401/1401 [==============================] - 0s - loss: 0.5820 - categorical_accuracy: 0.7830     \n",
      "Epoch 16/50\n",
      "1401/1401 [==============================] - 0s - loss: 0.5673 - categorical_accuracy: 0.7873     \n",
      "Epoch 17/50\n",
      "1401/1401 [==============================] - 0s - loss: 0.5548 - categorical_accuracy: 0.7930     \n",
      "Epoch 18/50\n",
      "1401/1401 [==============================] - 0s - loss: 0.5437 - categorical_accuracy: 0.7973     \n",
      "Epoch 19/50\n",
      "1401/1401 [==============================] - 0s - loss: 0.5342 - categorical_accuracy: 0.8009     \n",
      "Epoch 20/50\n",
      "1401/1401 [==============================] - 0s - loss: 0.5254 - categorical_accuracy: 0.8037     \n",
      "Epoch 21/50\n",
      "1401/1401 [==============================] - 0s - loss: 0.5181 - categorical_accuracy: 0.8059     \n",
      "Epoch 22/50\n",
      "1401/1401 [==============================] - 0s - loss: 0.5116 - categorical_accuracy: 0.8066     \n",
      "Epoch 23/50\n",
      "1401/1401 [==============================] - 0s - loss: 0.5059 - categorical_accuracy: 0.8066     \n",
      "Epoch 24/50\n",
      "1401/1401 [==============================] - 0s - loss: 0.5005 - categorical_accuracy: 0.8094     \n",
      "Epoch 25/50\n",
      "1401/1401 [==============================] - 0s - loss: 0.4956 - categorical_accuracy: 0.8108     \n",
      "Epoch 26/50\n",
      "1401/1401 [==============================] - 0s - loss: 0.4912 - categorical_accuracy: 0.8087     \n",
      "Epoch 27/50\n",
      "1401/1401 [==============================] - 0s - loss: 0.4876 - categorical_accuracy: 0.8108     \n",
      "Epoch 28/50\n",
      "1401/1401 [==============================] - 0s - loss: 0.4837 - categorical_accuracy: 0.8101     \n",
      "Epoch 29/50\n",
      "1401/1401 [==============================] - 0s - loss: 0.4805 - categorical_accuracy: 0.8123     \n",
      "Epoch 30/50\n",
      "1401/1401 [==============================] - 0s - loss: 0.4775 - categorical_accuracy: 0.8137     \n",
      "Epoch 31/50\n",
      "1401/1401 [==============================] - 0s - loss: 0.4748 - categorical_accuracy: 0.8158     \n",
      "Epoch 32/50\n",
      "1401/1401 [==============================] - 0s - loss: 0.4721 - categorical_accuracy: 0.8187     \n",
      "Epoch 33/50\n",
      "1401/1401 [==============================] - 0s - loss: 0.4699 - categorical_accuracy: 0.8187     \n",
      "Epoch 34/50\n",
      "1401/1401 [==============================] - 0s - loss: 0.4676 - categorical_accuracy: 0.8187     \n",
      "Epoch 35/50\n",
      "1401/1401 [==============================] - 0s - loss: 0.4655 - categorical_accuracy: 0.8187     \n",
      "Epoch 36/50\n",
      "1401/1401 [==============================] - 0s - loss: 0.4636 - categorical_accuracy: 0.8187     \n",
      "Epoch 37/50\n",
      "1401/1401 [==============================] - 0s - loss: 0.4620 - categorical_accuracy: 0.8194     \n",
      "Epoch 38/50\n",
      "1401/1401 [==============================] - 0s - loss: 0.4602 - categorical_accuracy: 0.8166     \n",
      "Epoch 39/50\n",
      "1401/1401 [==============================] - 0s - loss: 0.4587 - categorical_accuracy: 0.8201     \n",
      "Epoch 40/50\n",
      "1401/1401 [==============================] - 0s - loss: 0.4571 - categorical_accuracy: 0.8216     \n",
      "Epoch 41/50\n",
      "1401/1401 [==============================] - 0s - loss: 0.4558 - categorical_accuracy: 0.8223     \n",
      "Epoch 42/50\n",
      "1401/1401 [==============================] - 0s - loss: 0.4549 - categorical_accuracy: 0.8208     \n",
      "Epoch 43/50\n",
      "1401/1401 [==============================] - 0s - loss: 0.4533 - categorical_accuracy: 0.8208     \n",
      "Epoch 44/50\n",
      "1401/1401 [==============================] - 0s - loss: 0.4521 - categorical_accuracy: 0.8216     \n",
      "Epoch 45/50\n",
      "1401/1401 [==============================] - 0s - loss: 0.4511 - categorical_accuracy: 0.8237     \n",
      "Epoch 46/50\n",
      "1401/1401 [==============================] - 0s - loss: 0.4496 - categorical_accuracy: 0.8251     \n",
      "Epoch 47/50\n",
      "1401/1401 [==============================] - 0s - loss: 0.4492 - categorical_accuracy: 0.8237     \n",
      "Epoch 48/50\n",
      "1401/1401 [==============================] - 0s - loss: 0.4483 - categorical_accuracy: 0.8258     \n",
      "Epoch 49/50\n",
      "1401/1401 [==============================] - 0s - loss: 0.4469 - categorical_accuracy: 0.8273     \n",
      "Epoch 50/50\n",
      "1401/1401 [==============================] - 0s - loss: 0.4464 - categorical_accuracy: 0.8273     \n"
     ]
    },
    {
     "data": {
      "text/plain": [
       "<keras.callbacks.History at 0x21d00f9e4a8>"
      ]
     },
     "execution_count": 19,
     "metadata": {},
     "output_type": "execute_result"
    }
   ],
   "source": [
    "model.fit(x_train, y_train, epochs=50)"
   ]
  },
  {
   "cell_type": "code",
   "execution_count": 20,
   "metadata": {},
   "outputs": [
    {
     "name": "stdout",
     "output_type": "stream",
     "text": [
      " 32/601 [>.............................] - ETA: 0s\n",
      " \n",
      "Categorical accuracy on the test set 0.81032\n"
     ]
    }
   ],
   "source": [
    "print(\"\\n \\n\" + \"Categorical accuracy on the test set \" + str(np.round(model.evaluate(x_dev, y_dev)[1], 5)))"
   ]
  },
  {
   "cell_type": "code",
   "execution_count": 21,
   "metadata": {},
   "outputs": [
    {
     "data": {
      "text/plain": [
       "array([0.21131448, 0.25457571, 0.24292845, 0.29118136])"
      ]
     },
     "execution_count": 21,
     "metadata": {},
     "output_type": "execute_result"
    }
   ],
   "source": [
    "np.sum(y_dev, axis=0)/len(y_dev) "
   ]
  },
  {
   "cell_type": "markdown",
   "metadata": {},
   "source": [
    "#### Class distribution"
   ]
  },
  {
   "cell_type": "code",
   "execution_count": 22,
   "metadata": {},
   "outputs": [
    {
     "data": {
      "image/png": "[encoded data removed]",
      "text/plain": [
       "<matplotlib.figure.Figure at 0x21d00aa6c88>"
      ]
     },
     "metadata": {},
     "output_type": "display_data"
    }
   ],
   "source": [
    "plt.rcParams['figure.figsize'] = (5, 5)\n",
    "plt.pie(np.sum(y_dev, axis=0))\n",
    "plt.show()"
   ]
  },
  {
   "cell_type": "markdown",
   "metadata": {},
   "source": [
    "This simple model has been able to predict the news desk an article came from with over 80% accuracy basing purely on the LDA generated topic distribution.<br>\n",
    "If the algorithm acted randomly the accuracy of about 25% would be expected."
   ]
  },
  {
   "cell_type": "markdown",
   "metadata": {},
   "source": [
    "Hence it can be concluded that this LDA model provides an informative representation of the topic distribution of articles."
   ]
  }
 ],
 "metadata": {
  "kernelspec": {
   "display_name": "Python 3",
   "language": "python",
   "name": "python3"
  },
  "language_info": {
   "codemirror_mode": {
    "name": "ipython",
    "version": 3
   },
   "file_extension": ".py",
   "mimetype": "text/x-python",
   "name": "python",
   "nbconvert_exporter": "python",
   "pygments_lexer": "ipython3",
   "version": "3.6.5"
  }
 },
 "nbformat": 4,
 "nbformat_minor": 2
}
